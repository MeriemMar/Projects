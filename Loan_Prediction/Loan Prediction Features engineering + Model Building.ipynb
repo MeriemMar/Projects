{
 "cells": [
  {
   "cell_type": "markdown",
   "metadata": {},
   "source": [
    "## Problem statement "
   ]
  },
  {
   "cell_type": "markdown",
   "metadata": {},
   "source": [
    "It's a binary classification problem where we have to predict whether the loan would be approved or not."
   ]
  },
  {
   "cell_type": "markdown",
   "metadata": {},
   "source": [
    "## Hypothesis Generation "
   ]
  },
  {
   "cell_type": "markdown",
   "metadata": {},
   "source": [
    "Here is a list of all the many possible factors that can affect (impact) the outcome :\n",
    "- The salary of the applicant: the higher the income, the greater his chances of getting the loan.\n",
    "- Loan amount: the lower the amount, the greater his chances of getting the loan.\n",
    "- Credit history: if applicants have repayed their previous debts, it should improve the credit score.\n",
    "- Loan term: Short-term loan and smaller amount should positively impact the loan approval \n",
    "- EMI:Equated Monthly Instalment (EMI) is a fixed monthly payment, part of the equally divided repayments, used to clear off your outstanding loan. Lower the EMI, higher the chances of loan approval "
   ]
  },
  {
   "cell_type": "code",
   "execution_count": 273,
   "metadata": {},
   "outputs": [],
   "source": [
    "#Loading modules\n",
    "import pandas as pd \n",
    "import numpy as np                     # For mathematical calculations \n",
    "import seaborn as sns  \n",
    "sns.set()# For data visualization \n",
    "import matplotlib.pyplot as plt        # For plotting graphs \n",
    "%matplotlib inline \n",
    "import sklearn\n",
    "import warnings                        # To ignore any warnings warnings.filterwarnings(\"ignore\")\n",
    "#Data \n",
    "train = pd.read_csv(\"train_ctrUa4K.csv\") \n",
    "#We have 3 .csv files: \n",
    "#- Train file: will be used for training our model. Contains independent variables + the target\n",
    "#- Test file: contains only the independant variables. We will apply the modele to predict the target for these data. \n",
    "#- Sample submission: contains the format in which we have to submit our predictions\n",
    "#Let's make a copy of the files to keep the original datasets unchanged \n",
    "train_original=train.copy() \n"
   ]
  },
  {
   "cell_type": "markdown",
   "metadata": {},
   "source": [
    "## Heatmap"
   ]
  },
  {
   "cell_type": "markdown",
   "metadata": {},
   "source": [
    "To look at the correlation between the features, we need a heatmap, and therefore numerical variables.\n",
    "Let's convert the Loan_Status and Dependants variables."
   ]
  },
  {
   "cell_type": "markdown",
   "metadata": {},
   "source": [
    "The variables with darker color means their correlation is more important."
   ]
  },
  {
   "cell_type": "code",
   "execution_count": 274,
   "metadata": {},
   "outputs": [],
   "source": [
    "train['Loan_Status'].replace('N', 0,inplace=True) \n",
    "train['Loan_Status'].replace('Y', 1,inplace=True)\n"
   ]
  },
  {
   "cell_type": "code",
   "execution_count": 275,
   "metadata": {},
   "outputs": [
    {
     "data": {
      "image/png": "[encoded data removed]",
      "text/plain": [
       "<Figure size 432x288 with 2 Axes>"
      ]
     },
     "metadata": {
      "needs_background": "light"
     },
     "output_type": "display_data"
    }
   ],
   "source": [
    "loan_matrix = train.corr() \n",
    "#f, ax = plt.subplots(figsize=(9, 6)) \n",
    "sns.heatmap(loan_matrix, vmax=.8, square=True, cmap=\"Reds\");\n",
    "\n"
   ]
  },
  {
   "cell_type": "markdown",
   "metadata": {},
   "source": [
    "The most correlated variables are:\n",
    "- ApplicantIncome and LoanAmount\n",
    "- Credit_History and Loan_Status \n",
    "- LoanAmount CoapplicantIncome too"
   ]
  },
  {
   "cell_type": "markdown",
   "metadata": {},
   "source": [
    "## Handling Missing values"
   ]
  },
  {
   "cell_type": "markdown",
   "metadata": {},
   "source": [
    "### Train dataset "
   ]
  },
  {
   "cell_type": "markdown",
   "metadata": {},
   "source": [
    "Missing values summary"
   ]
  },
  {
   "cell_type": "code",
   "execution_count": 276,
   "metadata": {},
   "outputs": [
    {
     "data": {
      "text/plain": [
       "Loan_ID               0\n",
       "Gender               13\n",
       "Married               3\n",
       "Dependents           15\n",
       "Education             0\n",
       "Self_Employed        32\n",
       "ApplicantIncome       0\n",
       "CoapplicantIncome     0\n",
       "LoanAmount           22\n",
       "Loan_Amount_Term     14\n",
       "Credit_History       50\n",
       "Property_Area         0\n",
       "Loan_Status           0\n",
       "dtype: int64"
      ]
     },
     "execution_count": 276,
     "metadata": {},
     "output_type": "execute_result"
    }
   ],
   "source": [
    "train.isnull().sum()"
   ]
  },
  {
   "cell_type": "markdown",
   "metadata": {},
   "source": [
    "Filling Gender, Married, Dependents, Self_Employed and Credit_History with the mode as they are categorical features "
   ]
  },
  {
   "cell_type": "code",
   "execution_count": 277,
   "metadata": {},
   "outputs": [],
   "source": [
    "train['Gender'].fillna(train['Gender'].mode()[0], inplace=True) \n",
    "train['Married'].fillna(train['Married'].mode()[0], inplace=True) \n",
    "train['Dependents'].fillna(train['Dependents'].mode()[0], inplace=True) \n",
    "train['Self_Employed'].fillna(train['Self_Employed'].mode()[0], inplace=True) \n",
    "train['Credit_History'].fillna(train['Credit_History'].mode()[0], inplace=True)"
   ]
  },
  {
   "cell_type": "markdown",
   "metadata": {},
   "source": [
    "Let's analyse the remaining features: LoanAmount, LoanAmount_Term, numerical variables"
   ]
  },
  {
   "cell_type": "markdown",
   "metadata": {},
   "source": [
    "#### LoanAmount"
   ]
  },
  {
   "cell_type": "markdown",
   "metadata": {},
   "source": [
    "As we saw a lot of outliers previously, we will fill missing values with the median"
   ]
  },
  {
   "cell_type": "code",
   "execution_count": 278,
   "metadata": {},
   "outputs": [],
   "source": [
    "train['LoanAmount'].fillna(train['LoanAmount'].median(), inplace=True)"
   ]
  },
  {
   "cell_type": "markdown",
   "metadata": {},
   "source": [
    "#### LoanAmount_Term"
   ]
  },
  {
   "cell_type": "markdown",
   "metadata": {},
   "source": [
    "As we've seen in the barplot, the value of 360 is the most repeated. \n",
    "So we will replace the missing values in this variable using the mode.\n",
    "\n"
   ]
  },
  {
   "cell_type": "code",
   "execution_count": 279,
   "metadata": {},
   "outputs": [],
   "source": [
    "train['Loan_Amount_Term'].fillna(train['Loan_Amount_Term'].mode()[0], inplace=True)"
   ]
  },
  {
   "cell_type": "markdown",
   "metadata": {},
   "source": [
    "Checking the whole dataset"
   ]
  },
  {
   "cell_type": "code",
   "execution_count": 280,
   "metadata": {},
   "outputs": [
    {
     "data": {
      "text/plain": [
       "Loan_ID              0\n",
       "Gender               0\n",
       "Married              0\n",
       "Dependents           0\n",
       "Education            0\n",
       "Self_Employed        0\n",
       "ApplicantIncome      0\n",
       "CoapplicantIncome    0\n",
       "LoanAmount           0\n",
       "Loan_Amount_Term     0\n",
       "Credit_History       0\n",
       "Property_Area        0\n",
       "Loan_Status          0\n",
       "dtype: int64"
      ]
     },
     "execution_count": 280,
     "metadata": {},
     "output_type": "execute_result"
    }
   ],
   "source": [
    "train.isnull().sum()"
   ]
  },
  {
   "cell_type": "markdown",
   "metadata": {},
   "source": [
    "Great !"
   ]
  },
  {
   "cell_type": "markdown",
   "metadata": {},
   "source": [
    "## Handling Outliers"
   ]
  },
  {
   "cell_type": "markdown",
   "metadata": {},
   "source": [
    "### Performing normality test for numerical variables"
   ]
  },
  {
   "cell_type": "markdown",
   "metadata": {},
   "source": [
    "#### from scipy import stats\n",
    "k2, p1 = stats.normaltest(train['ApplicantIncome'])\n",
    "print(p1)\n",
    "k2, p2 = stats.normaltest(train['CoapplicantIncome'])\n",
    "print(p2)\n",
    "k2, p3 = stats.normaltest(train['LoanAmount'])\n",
    "print(p3)\n",
    "k2, p4 = stats.normaltest(train['Loan_Amount_Term'])\n",
    "print(p4)\n",
    "\n",
    "#All the distributions are normal"
   ]
  },
  {
   "cell_type": "code",
   "execution_count": 281,
   "metadata": {},
   "outputs": [
    {
     "data": {
      "text/plain": [
       "ApplicantIncome      6.539513\n",
       "CoapplicantIncome    7.491531\n",
       "LoanAmount           2.743053\n",
       "Loan_Amount_Term    -2.402112\n",
       "Credit_History      -2.021971\n",
       "Loan_Status         -0.809998\n",
       "dtype: float64"
      ]
     },
     "execution_count": 281,
     "metadata": {},
     "output_type": "execute_result"
    }
   ],
   "source": [
    "train.skew(axis = 0, skipna = True) \n",
    "# Calculates the Fisher–Pearson standardized moment coefficient for all columns in a dataframe.\n",
    "# The variables \"ApplicantIncome\", \"CoapplicantIncome\", \"LoanAmount\", \"Loan_Amount_Term\" are skewed\n",
    "#(3 are positive skewed data and the last is negative)"
   ]
  },
  {
   "cell_type": "markdown",
   "metadata": {},
   "source": [
    "As we've seen previously, the distribution of loanAmount is skewed, so we will apply the log transformation"
   ]
  },
  {
   "cell_type": "code",
   "execution_count": 282,
   "metadata": {},
   "outputs": [
    {
     "data": {
      "text/plain": [
       "<Figure size 432x288 with 0 Axes>"
      ]
     },
     "metadata": {},
     "output_type": "display_data"
    },
    {
     "data": {
      "image/png": "[encoded data removed]",
      "text/plain": [
       "<Figure size 1080x432 with 2 Axes>"
      ]
     },
     "metadata": {
      "needs_background": "light"
     },
     "output_type": "display_data"
    }
   ],
   "source": [
    "train['LoanAmount_log'] = np.log(train['LoanAmount']) \n",
    "\n",
    "plt.figure(1) \n",
    "plt.subplots(figsize=(15,6))\n",
    "plt.subplot(121) \n",
    "sns.distplot(train['LoanAmount']); \n",
    "plt.subplot(122) \n",
    "sns.distplot(train['LoanAmount_log']); \n",
    "plt.show()\n",
    "\n",
    "\n",
    "\n"
   ]
  },
  {
   "cell_type": "markdown",
   "metadata": {},
   "source": [
    "Drop Loan_ID "
   ]
  },
  {
   "cell_type": "code",
   "execution_count": 283,
   "metadata": {},
   "outputs": [],
   "source": [
    "train=train.drop('Loan_ID',axis=1) \n"
   ]
  },
  {
   "cell_type": "markdown",
   "metadata": {},
   "source": [
    "## Model building "
   ]
  },
  {
   "cell_type": "markdown",
   "metadata": {},
   "source": [
    "Reminder : we are dealing with a supervised regression machine learning problem. \n",
    "We are trying to predict the Loan eligibility based on customer information."
   ]
  },
  {
   "cell_type": "markdown",
   "metadata": {},
   "source": [
    "### Logistic Regression "
   ]
  },
  {
   "cell_type": "markdown",
   "metadata": {},
   "source": [
    "Used for binary classification"
   ]
  },
  {
   "cell_type": "markdown",
   "metadata": {},
   "source": [
    "### Validation set approach "
   ]
  },
  {
   "cell_type": "markdown",
   "metadata": {},
   "source": [
    "Drop the target variable"
   ]
  },
  {
   "cell_type": "code",
   "execution_count": 284,
   "metadata": {},
   "outputs": [],
   "source": [
    "X = train.drop('Loan_Status',1) \n",
    "y = train.Loan_Status"
   ]
  },
  {
   "cell_type": "markdown",
   "metadata": {},
   "source": [
    "Dummies "
   ]
  },
  {
   "cell_type": "code",
   "execution_count": 287,
   "metadata": {},
   "outputs": [],
   "source": [
    "X=pd.get_dummies(X) \n",
    "train=pd.get_dummies(train) \n"
   ]
  },
  {
   "cell_type": "markdown",
   "metadata": {},
   "source": [
    "Divide the train dataset into train (70%)+ validation (30%) parts"
   ]
  },
  {
   "cell_type": "code",
   "execution_count": 288,
   "metadata": {},
   "outputs": [],
   "source": [
    "from sklearn.model_selection import train_test_split\n",
    "\n",
    "x_train, x_test, y_train, y_test = train_test_split(X,y, test_size =0.3)"
   ]
  },
  {
   "cell_type": "markdown",
   "metadata": {},
   "source": [
    "Fitting the logistic regression model\n",
    "\n"
   ]
  },
  {
   "cell_type": "code",
   "execution_count": 289,
   "metadata": {},
   "outputs": [
    {
     "data": {
      "text/plain": [
       "LogisticRegression(C=1.0, class_weight=None, dual=False, fit_intercept=True,\n",
       "          intercept_scaling=1, max_iter=100, multi_class='ovr', n_jobs=1,\n",
       "          penalty='l2', random_state=1, solver='liblinear', tol=0.0001,\n",
       "          verbose=0, warm_start=False)"
      ]
     },
     "execution_count": 289,
     "metadata": {},
     "output_type": "execute_result"
    }
   ],
   "source": [
    "from sklearn.linear_model import LogisticRegression \n",
    "from sklearn.metrics import accuracy_score\n",
    "\n",
    "model = LogisticRegression(C=1.0, class_weight=None,dual=False,fit_intercept=True,intercept_scaling=1,max_iter=100,\n",
    "                   multi_class='ovr',n_jobs=1,penalty='l2',random_state=1,\n",
    "                   solver='liblinear', tol=0.0001,verbose=0, warm_start=False) \n",
    "model.fit(x_train, y_train)\n"
   ]
  },
  {
   "cell_type": "markdown",
   "metadata": {},
   "source": [
    "Predict the target for validation\n"
   ]
  },
  {
   "cell_type": "code",
   "execution_count": 290,
   "metadata": {},
   "outputs": [
    {
     "data": {
      "text/plain": [
       "0.8054054054054054"
      ]
     },
     "execution_count": 290,
     "metadata": {},
     "output_type": "execute_result"
    }
   ],
   "source": [
    "pred_test = model.predict(x_test)\n",
    "# Calculate the accuracy score \n",
    "accuracy_score(y_test,pred_test)"
   ]
  },
  {
   "cell_type": "markdown",
   "metadata": {},
   "source": [
    "#### That means that the model identified 80% of the loan status correctly."
   ]
  },
  {
   "cell_type": "markdown",
   "metadata": {},
   "source": [
    "### Feature engineering "
   ]
  },
  {
   "cell_type": "markdown",
   "metadata": {},
   "source": [
    "Add new features to  improve models predictions"
   ]
  },
  {
   "cell_type": "markdown",
   "metadata": {},
   "source": [
    "### Total income"
   ]
  },
  {
   "cell_type": "code",
   "execution_count": 291,
   "metadata": {},
   "outputs": [
    {
     "data": {
      "text/plain": [
       "<Figure size 432x288 with 0 Axes>"
      ]
     },
     "metadata": {},
     "output_type": "display_data"
    },
    {
     "data": {
      "image/png": "[encoded data removed]",
      "text/plain": [
       "<Figure size 1080x432 with 2 Axes>"
      ]
     },
     "metadata": {
      "needs_background": "light"
     },
     "output_type": "display_data"
    }
   ],
   "source": [
    "train['Total_Income']=train['ApplicantIncome']+train['CoapplicantIncome']\n",
    "\n",
    "train['Total_Income_log'] = np.log(train['Total_Income']) \n",
    "\n",
    "plt.figure(2) \n",
    "plt.subplots(figsize=(15,6))\n",
    "plt.subplot(121) \n",
    "sns.distplot(train['Total_Income']); \n",
    "plt.subplot(122) \n",
    "sns.distplot(train['Total_Income_log']); \n",
    "plt.show()\n",
    "\n",
    "\n",
    "\n"
   ]
  },
  {
   "cell_type": "markdown",
   "metadata": {},
   "source": [
    "### EMI"
   ]
  },
  {
   "cell_type": "markdown",
   "metadata": {},
   "source": [
    "It's the ratio of loan amount with respect to loan amount term."
   ]
  },
  {
   "cell_type": "code",
   "execution_count": 292,
   "metadata": {},
   "outputs": [],
   "source": [
    "train['EMI']=train['LoanAmount']/train['Loan_Amount_Term'] "
   ]
  },
  {
   "cell_type": "code",
   "execution_count": 293,
   "metadata": {},
   "outputs": [
    {
     "data": {
      "text/plain": [
       "<Figure size 432x288 with 0 Axes>"
      ]
     },
     "metadata": {},
     "output_type": "display_data"
    },
    {
     "data": {
      "image/png": "[encoded data removed]",
      "text/plain": [
       "<Figure size 1080x432 with 2 Axes>"
      ]
     },
     "metadata": {
      "needs_background": "light"
     },
     "output_type": "display_data"
    }
   ],
   "source": [
    "train['EMI_log'] = np.log(train['EMI']) \n",
    "\n",
    "plt.figure(2) \n",
    "plt.subplots(figsize=(15,6))\n",
    "plt.subplot(121) \n",
    "sns.distplot(train['EMI']); \n",
    "plt.subplot(122) \n",
    "sns.distplot(train['EMI_log']); \n",
    "plt.show()"
   ]
  },
  {
   "cell_type": "markdown",
   "metadata": {},
   "source": [
    "### Drop features"
   ]
  },
  {
   "cell_type": "markdown",
   "metadata": {},
   "source": [
    " The correlation between those old features and these new features will be very high and logistic regression assumes that the variables are not highly correlated. \n",
    " Removing correlated features will help in reducing the noise ."
   ]
  },
  {
   "cell_type": "code",
   "execution_count": 294,
   "metadata": {},
   "outputs": [],
   "source": [
    "train=train.drop(['ApplicantIncome', 'CoapplicantIncome', 'LoanAmount', 'Loan_Amount_Term','Total_Income','EMI'], axis=1) \n"
   ]
  },
  {
   "cell_type": "code",
   "execution_count": 295,
   "metadata": {},
   "outputs": [
    {
     "data": {
      "text/plain": [
       "Index(['Credit_History', 'Loan_Status', 'LoanAmount_log', 'Gender_Female',\n",
       "       'Gender_Male', 'Married_No', 'Married_Yes', 'Dependents_0',\n",
       "       'Dependents_1', 'Dependents_2', 'Dependents_3+', 'Education_Graduate',\n",
       "       'Education_Not Graduate', 'Self_Employed_No', 'Self_Employed_Yes',\n",
       "       'Property_Area_Rural', 'Property_Area_Semiurban', 'Property_Area_Urban',\n",
       "       'Total_Income_log', 'EMI_log'],\n",
       "      dtype='object')"
      ]
     },
     "execution_count": 295,
     "metadata": {},
     "output_type": "execute_result"
    }
   ],
   "source": [
    "train.columns"
   ]
  },
  {
   "cell_type": "markdown",
   "metadata": {},
   "source": [
    "### Building models after features engineering "
   ]
  },
  {
   "cell_type": "markdown",
   "metadata": {},
   "source": [
    "- Logistic Regression\n",
    "- Decision Tree\n",
    "- Random Forest\n",
    "- XGBoost"
   ]
  },
  {
   "cell_type": "code",
   "execution_count": 296,
   "metadata": {},
   "outputs": [],
   "source": [
    "X = train.drop('Loan_Status',1) \n",
    "y = train.Loan_Status  \n"
   ]
  },
  {
   "cell_type": "markdown",
   "metadata": {},
   "source": [
    "### I- Logistic regression with 10-Fold Cross Validation"
   ]
  },
  {
   "cell_type": "markdown",
   "metadata": {},
   "source": [
    "The data set is split using Stratified Kfold. In each split model is created and predicted using that model. The final predicted value is average of all model."
   ]
  },
  {
   "cell_type": "code",
   "execution_count": 321,
   "metadata": {},
   "outputs": [
    {
     "name": "stdout",
     "output_type": "stream",
     "text": [
      "\n",
      "1 of kfold 10\n",
      "accuracy_score 0.7777777777777778\n",
      "\n",
      "2 of kfold 10\n",
      "accuracy_score 0.8095238095238095\n",
      "\n",
      "3 of kfold 10\n",
      "accuracy_score 0.8360655737704918\n",
      "\n",
      "4 of kfold 10\n",
      "accuracy_score 0.8360655737704918\n",
      "\n",
      "5 of kfold 10\n",
      "accuracy_score 0.7704918032786885\n",
      "\n",
      "6 of kfold 10\n",
      "accuracy_score 0.8360655737704918\n",
      "\n",
      "7 of kfold 10\n",
      "accuracy_score 0.8032786885245902\n",
      "\n",
      "8 of kfold 10\n",
      "accuracy_score 0.7704918032786885\n",
      "\n",
      "9 of kfold 10\n",
      "accuracy_score 0.819672131147541\n",
      "\n",
      "10 of kfold 10\n",
      "accuracy_score 0.8524590163934426\n",
      "\n",
      " The mean validation accuracy for this model is 0.8111891751236013\n"
     ]
    }
   ],
   "source": [
    "from sklearn.model_selection import StratifiedKFold\n",
    "scores = []\n",
    "# Create the model\n",
    "model = LogisticRegression(C=1.0, class_weight=None,dual=False,fit_intercept=True,intercept_scaling=1,max_iter=100,\n",
    "               multi_class='ovr',n_jobs=1,penalty='l2',random_state=1,\n",
    "               solver='liblinear', tol=0.0001,verbose=0, warm_start=False) \n",
    "\n",
    "i=1 \n",
    "\n",
    "#  Instantiate the cross validator\n",
    "kf = StratifiedKFold(n_splits=10,random_state=1,shuffle=True) \n",
    "\n",
    "# Loop through the indices the split() method returns\n",
    "\n",
    "for train_index,test_index in kf.split(X,y):     \n",
    "    print('\\n{} of kfold {}'.format(i,kf.n_splits))\n",
    "    \n",
    "    # Generate batches from indices\n",
    "    xtrain,xval,ytrain,yval = X.loc[train_index],X.loc[test_index],y[train_index],y[test_index]     \n",
    "    # Fit the model \n",
    "    model.fit(xtrain, ytrain)     \n",
    "    pred_test = model.predict(xval)     \n",
    "    score = accuracy_score(yval,pred_test) \n",
    "    scores.append(score)\n",
    "    print('accuracy_score',score)     \n",
    "    i+=1 \n",
    "    \n",
    "print('\\n The mean validation accuracy for this model is {}'.format(np.mean(scores)))\n",
    "\n"
   ]
  },
  {
   "cell_type": "markdown",
   "metadata": {},
   "source": [
    "### II- Decision Tree with 10-Fold Cross Validation"
   ]
  },
  {
   "cell_type": "code",
   "execution_count": 303,
   "metadata": {},
   "outputs": [],
   "source": [
    "from sklearn import tree"
   ]
  },
  {
   "cell_type": "code",
   "execution_count": 306,
   "metadata": {},
   "outputs": [
    {
     "name": "stdout",
     "output_type": "stream",
     "text": [
      "\n",
      "1 of kfold 10\n",
      "accuracy_score 0.7936507936507936\n",
      "\n",
      "2 of kfold 10\n",
      "accuracy_score 0.7936507936507936\n",
      "\n",
      "3 of kfold 10\n",
      "accuracy_score 0.7049180327868853\n",
      "\n",
      "4 of kfold 10\n",
      "accuracy_score 0.7377049180327869\n",
      "\n",
      "5 of kfold 10\n",
      "accuracy_score 0.6721311475409836\n",
      "\n",
      "6 of kfold 10\n",
      "accuracy_score 0.6721311475409836\n",
      "\n",
      "7 of kfold 10\n",
      "accuracy_score 0.7213114754098361\n",
      "\n",
      "8 of kfold 10\n",
      "accuracy_score 0.6885245901639344\n",
      "\n",
      "9 of kfold 10\n",
      "accuracy_score 0.7704918032786885\n",
      "\n",
      "10 of kfold 10\n",
      "accuracy_score 0.7213114754098361\n",
      "\n",
      " The mean validation accuracy for this model is 0.7275826177465522\n"
     ]
    }
   ],
   "source": [
    "scores = []\n",
    "# Create the model\n",
    "\n",
    "model = tree.DecisionTreeClassifier(random_state=1)     \n",
    "\n",
    "i=1 \n",
    "\n",
    "#  Instantiate the cross validator\n",
    "kf = StratifiedKFold(n_splits=10,random_state=1,shuffle=True) \n",
    "\n",
    "# Loop through the indices the split() method returns\n",
    "\n",
    "for train_index,test_index in kf.split(X,y):     \n",
    "    print('\\n{} of kfold {}'.format(i,kf.n_splits))\n",
    "    \n",
    "    # Generate batches from indices\n",
    "    xtrain,xval,ytrain,yval = X.loc[train_index],X.loc[test_index],y[train_index],y[test_index]     \n",
    "    # Fit the model \n",
    "    model.fit(xtrain, ytrain)     \n",
    "    pred_test = model.predict(xval)     \n",
    "    score = accuracy_score(yval,pred_test) \n",
    "    scores.append(score)\n",
    "    print('accuracy_score',score)     \n",
    "    i+=1 \n",
    "    \n",
    "print('\\n The mean validation accuracy for this model is {}'.format(np.mean(scores)))\n",
    "\n"
   ]
  },
  {
   "cell_type": "markdown",
   "metadata": {},
   "source": [
    "We got a mean accuracy of 0.72 which is much less than the accuracy from logistic regression model. \n",
    "So let’s build another model, i.e. Random Forest, a tree based ensemble algorithm and try to improve our model by improving the accuracy."
   ]
  },
  {
   "cell_type": "markdown",
   "metadata": {},
   "source": [
    "### III- Random Forest with 10-Fold Cross Validation"
   ]
  },
  {
   "cell_type": "code",
   "execution_count": 307,
   "metadata": {},
   "outputs": [],
   "source": [
    "from sklearn.ensemble import RandomForestClassifier"
   ]
  },
  {
   "cell_type": "code",
   "execution_count": 308,
   "metadata": {},
   "outputs": [
    {
     "name": "stdout",
     "output_type": "stream",
     "text": [
      "\n",
      "1 of kfold 10\n",
      "accuracy_score 0.7936507936507936\n",
      "\n",
      "2 of kfold 10\n",
      "accuracy_score 0.7936507936507936\n",
      "\n",
      "3 of kfold 10\n",
      "accuracy_score 0.7868852459016393\n",
      "\n",
      "4 of kfold 10\n",
      "accuracy_score 0.8360655737704918\n",
      "\n",
      "5 of kfold 10\n",
      "accuracy_score 0.7704918032786885\n",
      "\n",
      "6 of kfold 10\n",
      "accuracy_score 0.7704918032786885\n",
      "\n",
      "7 of kfold 10\n",
      "accuracy_score 0.8032786885245902\n",
      "\n",
      "8 of kfold 10\n",
      "accuracy_score 0.7704918032786885\n",
      "\n",
      "9 of kfold 10\n",
      "accuracy_score 0.819672131147541\n",
      "\n",
      "10 of kfold 10\n",
      "accuracy_score 0.8032786885245902\n",
      "\n",
      " The mean validation accuracy for this model is 0.7947957325006505\n"
     ]
    },
    {
     "name": "stderr",
     "output_type": "stream",
     "text": [
      "/anaconda3/lib/python3.7/site-packages/sklearn/ensemble/forest.py:246: FutureWarning: The default value of n_estimators will change from 10 in version 0.20 to 100 in 0.22.\n",
      "  \"10 in version 0.20 to 100 in 0.22.\", FutureWarning)\n"
     ]
    }
   ],
   "source": [
    "scores = []\n",
    "# Create the model\n",
    "\n",
    "model = RandomForestClassifier(random_state=1, max_depth=10)     \n",
    "\n",
    "i=1 \n",
    "\n",
    "#  Instantiate the cross validator\n",
    "kf = StratifiedKFold(n_splits=10,random_state=1,shuffle=True) \n",
    "\n",
    "# Loop through the indices the split() method returns\n",
    "\n",
    "for train_index,test_index in kf.split(X,y):     \n",
    "    print('\\n{} of kfold {}'.format(i,kf.n_splits))\n",
    "    \n",
    "    # Generate batches from indices\n",
    "    xtrain,xval,ytrain,yval = X.loc[train_index],X.loc[test_index],y[train_index],y[test_index]     \n",
    "    # Fit the model \n",
    "    model.fit(xtrain, ytrain)     \n",
    "    pred_test = model.predict(xval)     \n",
    "    score = accuracy_score(yval,pred_test) \n",
    "    scores.append(score)\n",
    "    print('accuracy_score',score)     \n",
    "    i+=1 \n",
    "    \n",
    "print('\\n The mean validation accuracy for this model is {}'.format(np.mean(scores)))\n",
    "\n"
   ]
  },
  {
   "cell_type": "markdown",
   "metadata": {},
   "source": [
    "Let's improve the accuracy by optimizing the hyperparameters values, thanks to grid search."
   ]
  },
  {
   "cell_type": "code",
   "execution_count": 309,
   "metadata": {},
   "outputs": [],
   "source": [
    "from sklearn.model_selection import GridSearchCV"
   ]
  },
  {
   "cell_type": "code",
   "execution_count": 311,
   "metadata": {},
   "outputs": [
    {
     "name": "stderr",
     "output_type": "stream",
     "text": [
      "/anaconda3/lib/python3.7/site-packages/sklearn/model_selection/_split.py:2053: FutureWarning: You should specify a value for 'cv' instead of relying on the default value. The default value will change from 3 to 5 in version 0.22.\n",
      "  warnings.warn(CV_WARNING, FutureWarning)\n"
     ]
    },
    {
     "data": {
      "text/plain": [
       "GridSearchCV(cv='warn', error_score='raise-deprecating',\n",
       "       estimator=RandomForestClassifier(bootstrap=True, class_weight=None, criterion='gini',\n",
       "            max_depth=None, max_features='auto', max_leaf_nodes=None,\n",
       "            min_impurity_decrease=0.0, min_impurity_split=None,\n",
       "            min_samples_leaf=1, min_samples_split=2,\n",
       "            min_weight_fraction_leaf=0.0, n_estimators='warn', n_jobs=None,\n",
       "            oob_score=False, random_state=1, verbose=0, warm_start=False),\n",
       "       fit_params=None, iid='warn', n_jobs=None,\n",
       "       param_grid={'max_depth': [1, 3, 5, 7, 9, 11, 13, 15, 17, 19], 'n_estimators': [1, 21, 41, 61, 81, 101, 121, 141, 161, 181]},\n",
       "       pre_dispatch='2*n_jobs', refit=True, return_train_score='warn',\n",
       "       scoring=None, verbose=0)"
      ]
     },
     "execution_count": 311,
     "metadata": {},
     "output_type": "execute_result"
    }
   ],
   "source": [
    "# Provide range for max_depth from 1 to 20 with an interval of 2 and from 1 to 200 with an interval of 20 for n_estimators \n",
    "\n",
    "paramgrid = {'max_depth': list(range(1, 20, 2)), 'n_estimators': list(range(1, 200, 20))}\n",
    "\n",
    "# Use the grid to search for best hyperparameters\n",
    "\n",
    "grid_search=GridSearchCV(RandomForestClassifier(random_state=1),paramgrid)\n",
    "\n",
    "from sklearn.model_selection import train_test_split \n",
    "x_train, x_cv, y_train, y_cv = train_test_split(X,y, test_size =0.3, random_state=1)\n",
    "\n",
    "# Fit the grid search model \n",
    "grid_search.fit(x_train,y_train)\n"
   ]
  },
  {
   "cell_type": "code",
   "execution_count": 312,
   "metadata": {},
   "outputs": [
    {
     "data": {
      "text/plain": [
       "RandomForestClassifier(bootstrap=True, class_weight=None, criterion='gini',\n",
       "            max_depth=5, max_features='auto', max_leaf_nodes=None,\n",
       "            min_impurity_decrease=0.0, min_impurity_split=None,\n",
       "            min_samples_leaf=1, min_samples_split=2,\n",
       "            min_weight_fraction_leaf=0.0, n_estimators=101, n_jobs=None,\n",
       "            oob_score=False, random_state=1, verbose=0, warm_start=False)"
      ]
     },
     "execution_count": 312,
     "metadata": {},
     "output_type": "execute_result"
    }
   ],
   "source": [
    "# Estimating the optimized value \n",
    "grid_search.best_estimator_\n",
    "\n"
   ]
  },
  {
   "cell_type": "markdown",
   "metadata": {},
   "source": [
    "So, the optimized value for the max_depth is 5 and for n_estimator is 101. \n",
    "Now let’s build the model using these optimized values."
   ]
  },
  {
   "cell_type": "code",
   "execution_count": 313,
   "metadata": {},
   "outputs": [
    {
     "name": "stdout",
     "output_type": "stream",
     "text": [
      "\n",
      "1 of kfold 10\n",
      "accuracy_score 0.7936507936507936\n",
      "\n",
      "2 of kfold 10\n",
      "accuracy_score 0.8095238095238095\n",
      "\n",
      "3 of kfold 10\n",
      "accuracy_score 0.819672131147541\n",
      "\n",
      "4 of kfold 10\n",
      "accuracy_score 0.8360655737704918\n",
      "\n",
      "5 of kfold 10\n",
      "accuracy_score 0.7704918032786885\n",
      "\n",
      "6 of kfold 10\n",
      "accuracy_score 0.8360655737704918\n",
      "\n",
      "7 of kfold 10\n",
      "accuracy_score 0.819672131147541\n",
      "\n",
      "8 of kfold 10\n",
      "accuracy_score 0.7704918032786885\n",
      "\n",
      "9 of kfold 10\n",
      "accuracy_score 0.8032786885245902\n",
      "\n",
      "10 of kfold 10\n",
      "accuracy_score 0.8360655737704918\n",
      "\n",
      " The mean validation accuracy for this model is 0.8094977881863128\n"
     ]
    }
   ],
   "source": [
    "scores = []\n",
    "# Create the model\n",
    "\n",
    "model = RandomForestClassifier(random_state=1, max_depth=5, n_estimators=101)\n",
    "\n",
    "i=1 \n",
    "\n",
    "#  Instantiate the cross validator\n",
    "kf = StratifiedKFold(n_splits=10,random_state=1,shuffle=True) \n",
    "\n",
    "# Loop through the indices the split() method returns\n",
    "\n",
    "for train_index,test_index in kf.split(X,y):     \n",
    "    print('\\n{} of kfold {}'.format(i,kf.n_splits))\n",
    "    \n",
    "    # Generate batches from indices\n",
    "    xtrain,xval,ytrain,yval = X.loc[train_index],X.loc[test_index],y[train_index],y[test_index]     \n",
    "    # Fit the model \n",
    "    model.fit(xtrain, ytrain)     \n",
    "    pred_test = model.predict(xval)     \n",
    "    score = accuracy_score(yval,pred_test) \n",
    "    scores.append(score)\n",
    "    print('accuracy_score',score)     \n",
    "    i+=1 \n",
    "    \n",
    "print('\\n The mean validation accuracy for this model is {}'.format(np.mean(scores)))\n"
   ]
  },
  {
   "cell_type": "markdown",
   "metadata": {},
   "source": [
    "Let us find the most important features:"
   ]
  },
  {
   "cell_type": "code",
   "execution_count": 315,
   "metadata": {},
   "outputs": [
    {
     "data": {
      "text/plain": [
       "<matplotlib.axes._subplots.AxesSubplot at 0x1a186b50f0>"
      ]
     },
     "execution_count": 315,
     "metadata": {},
     "output_type": "execute_result"
    },
    {
     "data": {
      "image/png": "[encoded data removed]",
      "text/plain": [
       "<Figure size 1080x432 with 1 Axes>"
      ]
     },
     "metadata": {
      "needs_background": "light"
     },
     "output_type": "display_data"
    }
   ],
   "source": [
    "important_features=pd.Series(model.feature_importances_, index=X.columns) \n",
    "important_features.plot(kind='barh', figsize=(15,6))"
   ]
  },
  {
   "cell_type": "markdown",
   "metadata": {},
   "source": [
    "### We can see that Credit_History is the most important feature followed by Total Income,LoanAmount, EMI. So, feature engineering helped us a lot in predicting our target variable."
   ]
  },
  {
   "cell_type": "markdown",
   "metadata": {},
   "source": [
    "### III- XGBOOST with 10-Fold Cross Validation"
   ]
  },
  {
   "cell_type": "code",
   "execution_count": 319,
   "metadata": {},
   "outputs": [],
   "source": [
    "from xgboost import XGBClassifier"
   ]
  },
  {
   "cell_type": "code",
   "execution_count": 320,
   "metadata": {},
   "outputs": [
    {
     "name": "stdout",
     "output_type": "stream",
     "text": [
      "\n",
      "1 of kfold 10\n",
      "accuracy_score 0.8095238095238095\n",
      "\n",
      "2 of kfold 10\n",
      "accuracy_score 0.7777777777777778\n",
      "\n",
      "3 of kfold 10\n",
      "accuracy_score 0.8360655737704918\n",
      "\n",
      "4 of kfold 10\n",
      "accuracy_score 0.8032786885245902\n",
      "\n",
      "5 of kfold 10\n",
      "accuracy_score 0.7540983606557377\n",
      "\n",
      "6 of kfold 10\n",
      "accuracy_score 0.819672131147541\n",
      "\n",
      "7 of kfold 10\n",
      "accuracy_score 0.7868852459016393\n",
      "\n",
      "8 of kfold 10\n",
      "accuracy_score 0.7704918032786885\n",
      "\n",
      "9 of kfold 10\n",
      "accuracy_score 0.8032786885245902\n",
      "\n",
      "10 of kfold 10\n",
      "accuracy_score 0.8360655737704918\n",
      "\n",
      " The mean validation accuracy for this model is 0.7997137652875359\n"
     ]
    }
   ],
   "source": [
    "scores = []\n",
    "# Create the model\n",
    "\n",
    "model = XGBClassifier(n_estimators=50, max_depth=4)     \n",
    "i=1 \n",
    "\n",
    "#  Instantiate the cross validator\n",
    "kf = StratifiedKFold(n_splits=10,random_state=1,shuffle=True) \n",
    "\n",
    "# Loop through the indices the split() method returns\n",
    "\n",
    "for train_index,test_index in kf.split(X,y):     \n",
    "    print('\\n{} of kfold {}'.format(i,kf.n_splits))\n",
    "    \n",
    "    # Generate batches from indices\n",
    "    xtrain,xval,ytrain,yval = X.loc[train_index],X.loc[test_index],y[train_index],y[test_index]     \n",
    "    # Fit the model \n",
    "    model.fit(xtrain, ytrain)     \n",
    "    pred_test = model.predict(xval)     \n",
    "    score = accuracy_score(yval,pred_test) \n",
    "    scores.append(score)\n",
    "    print('accuracy_score',score)     \n",
    "    i+=1 \n",
    "    \n",
    "print('\\n The mean validation accuracy for this model is {}'.format(np.mean(scores)))\n"
   ]
  },
  {
   "cell_type": "markdown",
   "metadata": {},
   "source": [
    "### After trying and testing 4 different algorithms, the best accuracy is achieved by Logistic Regression (0.81), followed by XGBoost(0.8)"
   ]
  },
  {
   "cell_type": "markdown",
   "metadata": {},
   "source": [
    "- Logistic Regression: 0.81\n",
    "- Decision Tree: 0.73\n",
    "- Random Forest: 0.79\n",
    "- XGBoost: 0.80\n",
    "\n"
   ]
  },
  {
   "cell_type": "code",
   "execution_count": null,
   "metadata": {},
   "outputs": [],
   "source": []
  }
 ],
 "metadata": {
  "kernelspec": {
   "display_name": "Python 3",
   "language": "python",
   "name": "python3"
  },
  "language_info": {
   "codemirror_mode": {
    "name": "ipython",
    "version": 3
   },
   "file_extension": ".py",
   "mimetype": "text/x-python",
   "name": "python",
   "nbconvert_exporter": "python",
   "pygments_lexer": "ipython3",
   "version": "3.7.3"
  }
 },
 "nbformat": 4,
 "nbformat_minor": 2
}
